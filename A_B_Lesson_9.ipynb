{
 "cells": [
  {
   "cell_type": "code",
   "execution_count": null,
   "metadata": {},
   "outputs": [],
   "source": [
    "from scipy.stats import ttest_1samp\n",
    "import numpy as np\n",
    "import pandas as pd\n",
    "\n",
    "\n",
    "from scipy.stats import norm, t, kstest, shapiro\n",
    "import statsmodels.api as sm\n",
    "from matplotlib import pyplot as plt\n",
    "\n",
    "\n",
    "import warnings\n",
    "warnings.filterwarnings('ignore')\n",
    "warnings.warn('DelftStack')\n",
    "warnings.warn('Do not show this message')"
   ]
  },
  {
   "cell_type": "code",
   "execution_count": null,
   "metadata": {},
   "outputs": [],
   "source": [
    "np.random.seed(17)"
   ]
  },
  {
   "cell_type": "code",
   "execution_count": null,
   "metadata": {},
   "outputs": [],
   "source": [
    "# Создадим выборку нормального распределения и распределения Стьюдента с 5-ю степенями свободы.\n",
    "# По форме они очень похожи..\n",
    "x = norm.rvs(size = 250)\n",
    "y = t.rvs(size = 250, df = 5)"
   ]
  },
  {
   "cell_type": "code",
   "execution_count": null,
   "metadata": {},
   "outputs": [],
   "source": [
    "import plotly.express as px # Интерактивная библиотека для графиков.\n",
    "# marginal = 'box' - указываем, чтобы вывел еще и boxplot\n",
    "\n",
    "fig = px.histogram(y, x=y, title='y', marginal = 'box')\n",
    "fig.show(renderer='colab')"
   ]
  },
  {
   "cell_type": "code",
   "execution_count": null,
   "metadata": {},
   "outputs": [],
   "source": [
    "# Смотрим и для второго распределения x.\n",
    "# Выглядит нормальным, но является ли нормальным - нужно выяснить.\n",
    "\n",
    "\n",
    "fig = px.histogram(x, x=x, title='x', marginal = 'box')\n",
    "fig.show(renderer='colab')"
   ]
  },
  {
   "attachments": {},
   "cell_type": "markdown",
   "metadata": {},
   "source": [
    "Проверка на нормальность:\n",
    "1) Графические: Оценка данных с использованием гистограммы и Quantile-Quantile-plot\n",
    "\n",
    "2) Статистические: Критерии проверки нормальности распределения (Шапиро-Уилка при n < 5_000 и Колмогорова-Смирнова для любых выборок)"
   ]
  },
  {
   "cell_type": "code",
   "execution_count": null,
   "metadata": {},
   "outputs": [],
   "source": [
    "# QQ-plot для x и для y\n",
    "\n",
    "fig = sm.qqplot(y, color='green')\n",
    "plt.title('Normal Q-Q Plot')\n",
    "plt.show"
   ]
  },
  {
   "cell_type": "code",
   "execution_count": null,
   "metadata": {},
   "outputs": [],
   "source": [
    "fig = sm.qqplot(x, color='green')\n",
    "plt.title('Normal Q-Q Plot')\n",
    "plt.show"
   ]
  },
  {
   "attachments": {},
   "cell_type": "markdown",
   "metadata": {},
   "source": [
    "Тест Колмогорова-Смирнова - проверка на нормальность.\n",
    "Для выборок любого размера.\n",
    "\n",
    "H0  - x взята из генеральной совокупности с нормальным распределением.\n",
    "\n",
    "H1  - x взята из ген.совокупности с другим распределением.\n",
    "\n",
    "Можно использовать для проверки любого другого распределения(Стьюдента, биномиального, коши, экспоненциального).\n",
    "\n",
    "При p-value > alpha: анализируемое распределение не отличается от нормального."
   ]
  },
  {
   "cell_type": "code",
   "execution_count": null,
   "metadata": {},
   "outputs": [],
   "source": [
    "# Проверим принадлежность выборок к нормальному распределению.\n",
    "\n",
    "print(kstest(x, 'norm'))\n",
    "print(kstest(y, 'norm'))"
   ]
  },
  {
   "attachments": {},
   "cell_type": "markdown",
   "metadata": {},
   "source": [
    "По этим выборкам данные распределения не отличаются от нормального."
   ]
  },
  {
   "cell_type": "code",
   "execution_count": null,
   "metadata": {},
   "outputs": [],
   "source": [
    "# Проверим принадлежность к экспоненциальному распределению (сложная гипотеза):\n",
    "\n",
    "print(kstest(x, 'expon'))"
   ]
  },
  {
   "cell_type": "code",
   "execution_count": null,
   "metadata": {},
   "outputs": [],
   "source": [
    "# Проверим принадлежность к биномиальному распределению (простая гипотеза)\n",
    "# Требует уточнения параметров.\n",
    "\n",
    "print(kstest(x, 'binom', args=(1_500, 0.16)))"
   ]
  },
  {
   "attachments": {},
   "cell_type": "markdown",
   "metadata": {},
   "source": [
    "Наше распределение точно отличается от экспоненциального и от биномиального"
   ]
  },
  {
   "attachments": {},
   "cell_type": "markdown",
   "metadata": {},
   "source": [
    "Проверка на нормальность Шапиро-Уилка:\n",
    "Является наиболее мощным для воборок до 5_000 наблюдений.\n",
    "\n",
    "H0  - x взята из генеральной совокупности с нормальным распределением.\n",
    "\n",
    "H1  - x взята из ген.совокупности с другим распределением.\n",
    "\n",
    "При p-value > alpha: анализируемое распределение не отличается от нормального."
   ]
  },
  {
   "cell_type": "code",
   "execution_count": null,
   "metadata": {},
   "outputs": [],
   "source": [
    "w, p_val = shapiro(x)\n",
    "print('Shapiro-Wilk normality test for x')\n",
    "print('---' * 10)\n",
    "print('w =', w)\n",
    "print('p-value =', p_val)"
   ]
  },
  {
   "attachments": {},
   "cell_type": "markdown",
   "metadata": {},
   "source": [
    "Распределение x не отличается от нормального.\n",
    "\n",
    "p-value > alpha"
   ]
  },
  {
   "cell_type": "code",
   "execution_count": null,
   "metadata": {},
   "outputs": [],
   "source": [
    "w, p_val = shapiro(y)\n",
    "print('Shapiro-Wilk normality test for x')\n",
    "print('---' * 10)\n",
    "print('w =', w)\n",
    "print('p-value =', p_val)"
   ]
  },
  {
   "attachments": {},
   "cell_type": "markdown",
   "metadata": {},
   "source": [
    "Тест Колмагорова-Смирнова показал, что оба распределения нормальные.\n",
    "\n",
    "НО!!! тест Шапиро-Уилка является более мощным на выборках до 5_000 => он и выявил, то распределение y отличается от нормального. (Мы как раз и получили его как распределение t-Стьюдента)"
   ]
  },
  {
   "attachments": {},
   "cell_type": "markdown",
   "metadata": {},
   "source": [
    "Расчет мощности теста / расчет длительности эксперимента."
   ]
  },
  {
   "attachments": {},
   "cell_type": "markdown",
   "metadata": {},
   "source": [
    "Факторы, влияющие на мощность теста:\n",
    "1) статистические:\n",
    "\n",
    "Размер выбора(effect_size, ошибка 1 рода, ошибка 2 рода)\n",
    "Дисперсия (дисперсия частично зашита в effect_size => чем больше дисперсия, тем больше нам нужно наблюдений)\n",
    "2) продуктовые:\n",
    "\n",
    "Сезонность(недельная/месячная...)\n",
    "Метрика (тип метрики, окно закрытия метрики)"
   ]
  },
  {
   "cell_type": "code",
   "execution_count": null,
   "metadata": {},
   "outputs": [],
   "source": [
    "import math\n",
    "import numpy as np\n",
    "import statsmodels.stats.power as smp\n",
    "from tqdm.auto import tqdm  # будет показывать количество итераций\n",
    "import matplotlib.pyplot as plt\n",
    "import seaborn as sns       # библиотека для визуализаций"
   ]
  },
  {
   "cell_type": "code",
   "execution_count": null,
   "metadata": {},
   "outputs": [],
   "source": [
    "plt.style.use('ggplot')"
   ]
  },
  {
   "cell_type": "code",
   "execution_count": null,
   "metadata": {},
   "outputs": [],
   "source": [
    "# Критерий пропорций (для кликов, конверсий)\n",
    "\n",
    "alpha = 0.05\n",
    "power = 0.9\n",
    "n = 450             # Количество наблюдений.\n",
    "p_x = 0.5           # Конверсии.\n",
    "p_y = 0.6"
   ]
  },
  {
   "cell_type": "code",
   "execution_count": null,
   "metadata": {},
   "outputs": [],
   "source": [
    "# effect_size\n",
    "\n",
    "h = 2 * math.asin(np.sqrt(p_x)) - 2 * math.asin(np.sqrt(p_y))\n",
    "h"
   ]
  },
  {
   "attachments": {},
   "cell_type": "markdown",
   "metadata": {},
   "source": [
    "Test Procedure\n",
    "If we assume that  P1  and  P2  represents the two proportions. The effect_size is represented as this difference:\n",
    "\n",
    "h=φ1−φ2 , where  φ=arcsine(Pi−−√)"
   ]
  },
  {
   "cell_type": "code",
   "execution_count": null,
   "metadata": {},
   "outputs": [],
   "source": [
    "# Мощность критерия для выборки из n элементов, если effect_size = h, alpha = 5%\n",
    "\n",
    "power = smp.zt_ind_solve_power(effect_size=h, nobs1=n, alpha=alpha, alternative='two-sided')\n",
    "power"
   ]
  },
  {
   "cell_type": "code",
   "execution_count": null,
   "metadata": {},
   "outputs": [],
   "source": [
    "# Количество наблюдений, необходимое для заданного эффекта при alpha=5%, beta(power)=80%\n",
    "\n",
    "smp.zt_ind_solve_power(effect_size=h, alpha=alpha, power=power, alternative='two-sided')"
   ]
  },
  {
   "cell_type": "code",
   "execution_count": null,
   "metadata": {},
   "outputs": [],
   "source": [
    "# Величина эффекта effect_size при заданных alpha и beta\n",
    "\n",
    "smp.zt_ind_solve_power(nobs1=n, alpha=alpha, power=power)"
   ]
  },
  {
   "cell_type": "code",
   "execution_count": null,
   "metadata": {},
   "outputs": [],
   "source": [
    "effects = []\n",
    "sample_sizes = []\n",
    "\n",
    "for i in tqdm(range(10, 10_000)):\n",
    "  effects.append(smp.tt_ind_solve_power(nobs1=i, alpha=alpha, power=power))\n",
    "  sample_sizes.append(i)"
   ]
  },
  {
   "cell_type": "code",
   "execution_count": null,
   "metadata": {},
   "outputs": [],
   "source": [
    "df = pd.DataFrame({'effects': effects, 'sample_sizes': sample_sizes})\n",
    "df"
   ]
  },
  {
   "cell_type": "code",
   "execution_count": null,
   "metadata": {},
   "outputs": [],
   "source": [
    "import plotly.express as px\n",
    "\n",
    "fig = px.line(df, x='sample_sizes', y='effects', title='effect vs sample size')\n",
    "fig.show(renderer='colab')"
   ]
  },
  {
   "attachments": {},
   "cell_type": "markdown",
   "metadata": {},
   "source": [
    "Чем меньше эффект, тем больше нам нужно количество наблюдений, чтобы его зафиксировать."
   ]
  },
  {
   "cell_type": "code",
   "execution_count": null,
   "metadata": {},
   "outputs": [],
   "source": [
    "power = []\n",
    "sample_sizes = []\n",
    "\n",
    "for i in tqdm(range(10, 10_000)):\n",
    "  power.append(smp.tt_ind_solve_power(nobs1=i, alpha=alpha, effect_size=0.1))\n",
    "  sample_sizes.append(i)"
   ]
  },
  {
   "cell_type": "code",
   "execution_count": null,
   "metadata": {},
   "outputs": [],
   "source": [
    "df2 = pd.DataFrame({'power': power, 'sample_sizes': sample_sizes })\n",
    "df2"
   ]
  },
  {
   "cell_type": "code",
   "execution_count": null,
   "metadata": {},
   "outputs": [],
   "source": [
    "fig = px.line(df2, x='sample_sizes', y='power', title='power vs sample size')\n",
    "fig.show(renderer='colab')"
   ]
  },
  {
   "attachments": {},
   "cell_type": "markdown",
   "metadata": {},
   "source": [
    "При росте количества наблюдений, мощность увеличивается."
   ]
  },
  {
   "attachments": {},
   "cell_type": "markdown",
   "metadata": {},
   "source": [
    "Множественная проверка гипотез"
   ]
  },
  {
   "cell_type": "code",
   "execution_count": null,
   "metadata": {},
   "outputs": [],
   "source": [
    "import numpy as np\n",
    "import matplotlib.pyplot as  plt\n",
    "from scipy import stats\n",
    "\n",
    "rvs_1 = stats.norm.rvs(loc=5, scale=10, size=1_000, random_state=0)\n",
    "rvs_2 = stats.norm.rvs(loc=6.5, scale=8, size=1_000, random_state=0)"
   ]
  },
  {
   "cell_type": "code",
   "execution_count": null,
   "metadata": {},
   "outputs": [],
   "source": [
    "def t_test_function(rvs, alpha, no_test):   # на вход: распределение, альфу и количество тестов.\n",
    "  counter=0\n",
    "  for i in range(no_test):\n",
    "    rvs_random = stats.norm.rvs(loc=5, scale=10, size=1_000, random_state=i+1)\n",
    "\n",
    "    statistic, pvalue = stats.ttest_ind(rvs, rvs_random, equal_var=False)\n",
    "\n",
    "    if pvalue <= alpha:\n",
    "      counter += 1\n",
    "\n",
    "  print(counter)"
   ]
  },
  {
   "attachments": {},
   "cell_type": "markdown",
   "metadata": {},
   "source": [
    "# поправка Бонферони: альфа / на количество попарных сравнений."
   ]
  },
  {
   "cell_type": "code",
   "execution_count": null,
   "metadata": {},
   "outputs": [],
   "source": [
    "def bonferroni_correction_function(rvs, alpha, no_test):\n",
    "  alpha_bonferroni = alpha / no_test\n",
    "\n",
    "  counter = 0\n",
    "  for i in range(no_test):\n",
    "    rvs_random = stats.norm.rvs(loc=5, scale=10, size=1_000, random_state=i+1)\n",
    "\n",
    "    statistic, pvalue = stats.ttest_ind(rvs, rvs_random, equal_var=False)\n",
    "\n",
    "    if pvalue <= alpha_bonferroni:\n",
    "      counter += 1\n",
    "\n",
    "  print(counter)"
   ]
  },
  {
   "cell_type": "code",
   "execution_count": null,
   "metadata": {},
   "outputs": [],
   "source": [
    "t_test_function(rvs_1, alpha=0.05, no_test=100)\n",
    "t_test_function(rvs_2, alpha=0.05, no_test=100)\n",
    "\n",
    "bonferroni_correction_function(rvs_1, alpha=0.05, no_test=100)\n",
    "\n",
    "bonferroni_correction_function(rvs_2, alpha=0.05, no_test=100)"
   ]
  },
  {
   "attachments": {},
   "cell_type": "markdown",
   "metadata": {},
   "source": [
    "В 0 раз - отличается статистически значимая разница. Поправка Бонферони понижает риск False Positive."
   ]
  },
  {
   "attachments": {},
   "cell_type": "markdown",
   "metadata": {},
   "source": [
    "Текст, выделенный полужирным шрифтом# Bootstrap."
   ]
  },
  {
   "cell_type": "code",
   "execution_count": null,
   "metadata": {},
   "outputs": [],
   "source": [
    "!pip install bootstrapped"
   ]
  },
  {
   "cell_type": "code",
   "execution_count": null,
   "metadata": {},
   "outputs": [],
   "source": [
    "import numpy as np\n",
    "import pandas as pd\n",
    "from scipy.stats import norm\n",
    "import matplotlib.pyplot as plt\n",
    "\n",
    "from tqdm.auto import tqdm\n",
    "\n",
    "import bootstrapped.bootstrap as bs\n",
    "import bootstrapped.compare_functions as bs_compare\n",
    "import bootstrapped.stats_functions as bs_stats\n"
   ]
  },
  {
   "cell_type": "code",
   "execution_count": null,
   "metadata": {},
   "outputs": [],
   "source": [
    "plt.style.use('ggplot')"
   ]
  },
  {
   "cell_type": "code",
   "execution_count": null,
   "metadata": {},
   "outputs": [],
   "source": [
    "n = 11_000\n",
    "sample_A = np.random.exponential(scale=1/0.002, size=n)\n",
    "sample_B = np.random.exponential(scale=1/0.00201, size=n)\n",
    "\n",
    "df = pd.DataFrame({\"sample_A\": sample_A, \"sample_B\": sample_B})"
   ]
  },
  {
   "cell_type": "code",
   "execution_count": null,
   "metadata": {},
   "outputs": [],
   "source": [
    "s_1 = df.sample_A.values\n",
    "\n",
    "s_2 = df.sample_B.values\n",
    "\n",
    "b = bs.bootstrap_ab(s_1, s_2, stat_func=bs_stats.mean,\n",
    "                    compare_func=bs_compare.difference, alpha=0.05, num_iterations=10_000)\n",
    "\n",
    "print(b.lower_bound, b.upper_bound)"
   ]
  },
  {
   "cell_type": "code",
   "execution_count": null,
   "metadata": {},
   "outputs": [],
   "source": [
    "# Для стандартного отклонения\n",
    "\n",
    "v = bs.bootstrap_ab(s_1, s_2, stat_func=bs_stats.std, \n",
    "                    compare_func=bs_compare.difference, alpha=0.05, num_iterations=10_000)\n",
    "\n",
    "print(v.lower_bound, v.upper_bound)"
   ]
  },
  {
   "attachments": {},
   "cell_type": "markdown",
   "metadata": {},
   "source": [
    "Бакетирование.\n",
    "разбивает данные на более управляемые части (сегменты или бакеты), чтобы ускорить последовательные чтения данных для последующих заданий. В один бакет попадают строчки таблицы, у которых совпадает значение хэш-функции, вычисленное по определенной колонке.\n",
    "\n",
    "Способ привести распределение к нормальному и применить, например, ttest.\n",
    "\n",
    "Когда чего применяем:\n",
    "сохранить информацию о дисперсии и среднем в выборке до трансформации.\n",
    "привести к нормальному распределению.\n",
    "Возьмем кратное количество групп: например, 2_000 (можно 300 или 600)"
   ]
  },
  {
   "cell_type": "code",
   "execution_count": null,
   "metadata": {},
   "outputs": [],
   "source": [
    "plt.style.use('ggplot')"
   ]
  },
  {
   "cell_type": "code",
   "execution_count": null,
   "metadata": {},
   "outputs": [],
   "source": [
    "b = 2_000\n",
    "n = 200_000\n",
    "\n",
    "val_A = np.random.exponential(scale=1/0.002, size=n)\n",
    "val_B = np.random.exponential(scale=1/0.00201, size=n) \n",
    "\n",
    "sample_exp = pd.DataFrame({\n",
    "    \"metric\": np.concatenate([val_A, val_B]),\n",
    "    \"group\": [\"A\" for i in range(n)] + [\"B\" for i in range(n)],\n",
    "    \"bucket\": [i for i in range(b)] * int(n * 2 / b)\n",
    "})"
   ]
  },
  {
   "cell_type": "code",
   "execution_count": null,
   "metadata": {},
   "outputs": [],
   "source": [
    "# Агрегация по бакетам и считаем среднее.\n",
    "\n",
    "backeted_df = sample_exp.groupby(by=[\"bucket\", \"group\"])[\"metric\"].agg(mu=np.mean, sd_mu=np.std).reset_index()\n",
    "backeted_df.head()"
   ]
  },
  {
   "cell_type": "code",
   "execution_count": null,
   "metadata": {},
   "outputs": [],
   "source": [
    "# Сравним выборочное среднее и среднее по баккетам изначальное.\n",
    "\n",
    "round(np.mean(sample_exp[\"metric\"]), 3) == round(np.mean(backeted_df[\"mu\"]), 3)"
   ]
  },
  {
   "cell_type": "code",
   "execution_count": null,
   "metadata": {},
   "outputs": [],
   "source": [
    "np.var(sample_exp[\"metric\"]) / len(sample_exp[\"metric\"])"
   ]
  },
  {
   "cell_type": "code",
   "execution_count": null,
   "metadata": {},
   "outputs": [],
   "source": [
    "np.var(backeted_df[\"mu\"]) / len(backeted_df[\"mu\"])"
   ]
  },
  {
   "cell_type": "code",
   "execution_count": null,
   "metadata": {},
   "outputs": [],
   "source": [
    "sample_exp"
   ]
  },
  {
   "cell_type": "code",
   "execution_count": null,
   "metadata": {},
   "outputs": [],
   "source": [
    "import plotly.express as px\n",
    "\n",
    "fig = px.histogram(sample_exp, x=sample_exp.metric, title='x', marginal='box')\n",
    "fig.show(renderer=\"colab\")"
   ]
  }
 ],
 "metadata": {
  "kernelspec": {
   "display_name": "Python 3",
   "language": "python",
   "name": "python3"
  },
  "language_info": {
   "name": "python",
   "version": "3.11.2 (tags/v3.11.2:878ead1, Feb  7 2023, 16:38:35) [MSC v.1934 64 bit (AMD64)]"
  },
  "orig_nbformat": 4,
  "vscode": {
   "interpreter": {
    "hash": "697232e0b8e789ec23fe933c912406e74fbc7d569e5486b9b29a637f977feb44"
   }
  }
 },
 "nbformat": 4,
 "nbformat_minor": 2
}
